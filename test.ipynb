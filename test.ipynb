{
 "cells": [
  {
   "cell_type": "code",
   "execution_count": 1,
   "metadata": {},
   "outputs": [],
   "source": [
    "import numpy as np\n",
    "from opart_lda import L, get_cumsum"
   ]
  },
  {
   "cell_type": "code",
   "execution_count": 2,
   "metadata": {},
   "outputs": [],
   "source": [
    "# solve opart\n",
    "def opart(sequence, lda):\n",
    "    sequence = np.append(0, sequence)\n",
    "    y, z = get_cumsum(sequence)             # cumsum vector\n",
    "    sequence_length = len(sequence)-1       # length of sequence\n",
    "\n",
    "    # Set up\n",
    "    C = np.zeros(sequence_length + 1)\n",
    "    C[0] = -lda\n",
    "\n",
    "    # Get tau_star\n",
    "    tau_star = np.zeros(sequence_length+1, dtype=int)\n",
    "    for t in range(1, sequence_length+1):\n",
    "        V = C[:t] + lda + L(1 + np.arange(t), t, y, z)  # calculate set V\n",
    "        last_chpnt = np.argmin(V)                       # get optimal tau from set V\n",
    "        C[t] = V[last_chpnt]                            # update C_i\n",
    "        tau_star[t] = last_chpnt                        # update tau_star\n",
    "    \n",
    "    return tau_star[2:]"
   ]
  },
  {
   "cell_type": "code",
   "execution_count": 3,
   "metadata": {},
   "outputs": [],
   "source": [
    "def generate_sequence(length, num_segments):\n",
    "    # Generate segment boundaries\n",
    "    segment_lengths = np.random.choice(range(1, length - num_segments + 2), size=num_segments - 1, replace=False)\n",
    "    segment_lengths = np.sort(segment_lengths)\n",
    "    segment_lengths = np.concatenate(([0], segment_lengths, [length]))\n",
    "    \n",
    "    # Initialize sequence\n",
    "    sequence = np.zeros(length)\n",
    "    \n",
    "    # Create segments with different means and variances\n",
    "    for i in range(num_segments):\n",
    "        start = segment_lengths[i]\n",
    "        end = segment_lengths[i + 1]\n",
    "        mean = np.random.uniform(-10, 10)  # Random mean for the segment\n",
    "        variance = np.random.uniform(0.5, 5)  # Random variance for the segment\n",
    "        segment = np.random.normal(loc=mean, scale=np.sqrt(variance), size=end - start)\n",
    "        sequence[start:end] = segment\n",
    "    \n",
    "    return sequence\n",
    "\n",
    "def generate_sequences(num_sequences):\n",
    "    sequences = []\n",
    "    for _ in range(num_sequences):\n",
    "        length = np.random.randint(100, 10000)  # Random length for each sequence\n",
    "        num_segments = np.random.randint(10, 50)  # Random number of segments for each sequence\n",
    "        sequence = generate_sequence(length, num_segments)\n",
    "        sequences.append(sequence)\n",
    "    \n",
    "    return sequences\n",
    "\n",
    "# Generate a list of sequences\n",
    "sequences = generate_sequences(1000)"
   ]
  },
  {
   "cell_type": "code",
   "execution_count": 4,
   "metadata": {},
   "outputs": [],
   "source": [
    "def is_sorted(arr):\n",
    "    return np.all(arr[:-1] <= arr[1:])"
   ]
  },
  {
   "cell_type": "code",
   "execution_count": 5,
   "metadata": {},
   "outputs": [],
   "source": [
    "# for sequence in sequences:\n",
    "#     tau_star = opart(sequence, 5)\n",
    "#     print(is_sorted(tau_star))"
   ]
  },
  {
   "cell_type": "code",
   "execution_count": 9,
   "metadata": {},
   "outputs": [
    {
     "name": "stdout",
     "output_type": "stream",
     "text": [
      "[ 0  0  3  3  3  3  3  8  8 10 11 11 11 11 15 11 17 18 19 19 16 11 20 24\n",
      " 11 26 27 28 28 30 30 32 32 34 35 36 32 38 32]\n"
     ]
    }
   ],
   "source": [
    "sequence = generate_sequence(40, 2)\n",
    "tau_star = opart(sequence, 3.5)\n",
    "print(tau_star)"
   ]
  }
 ],
 "metadata": {
  "kernelspec": {
   "display_name": "Python 3",
   "language": "python",
   "name": "python3"
  },
  "language_info": {
   "codemirror_mode": {
    "name": "ipython",
    "version": 3
   },
   "file_extension": ".py",
   "mimetype": "text/x-python",
   "name": "python",
   "nbconvert_exporter": "python",
   "pygments_lexer": "ipython3",
   "version": "3.11.9"
  }
 },
 "nbformat": 4,
 "nbformat_minor": 2
}
